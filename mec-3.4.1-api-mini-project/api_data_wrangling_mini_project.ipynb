{
 "cells": [
  {
   "cell_type": "markdown",
   "source": [
    "This exercise will require you to pull some data from the Qunadl API. Qaundl is currently the most widely used aggregator of financial market data."
   ],
   "metadata": {
    "gradient": {
     "editing": false
    }
   }
  },
  {
   "cell_type": "markdown",
   "source": [
    "As a first step, you will need to register a free account on the http://www.quandl.com website."
   ],
   "metadata": {
    "gradient": {
     "editing": false
    }
   }
  },
  {
   "cell_type": "markdown",
   "source": [
    "After you register, you will be provided with a unique API key, that you should store:"
   ],
   "metadata": {
    "gradient": {
     "editing": false
    }
   }
  },
  {
   "cell_type": "code",
   "execution_count": null,
   "source": [
    "# Store the API key as a string - according to PEP8, constants are always named in all upper case\n",
    "API_KEY = ''"
   ],
   "outputs": [],
   "metadata": {
    "collapsed": true,
    "gradient": {
     "editing": false
    }
   }
  },
  {
   "cell_type": "markdown",
   "source": [
    "Qaundl has a large number of data sources, but, unfortunately, most of them require a Premium subscription. Still, there are also a good number of free datasets."
   ],
   "metadata": {
    "gradient": {
     "editing": false
    }
   }
  },
  {
   "cell_type": "markdown",
   "source": [
    "For this mini project, we will focus on equities data from the Frankfurt Stock Exhange (FSE), which is available for free. We'll try and analyze the stock prices of a company called Carl Zeiss Meditec, which manufactures tools for eye examinations, as well as medical lasers for laser eye surgery: https://www.zeiss.com/meditec/int/home.html. The company is listed under the stock ticker AFX_X."
   ],
   "metadata": {
    "gradient": {
     "editing": false
    }
   }
  },
  {
   "cell_type": "markdown",
   "source": [
    "You can find the detailed Quandl API instructions here: https://docs.quandl.com/docs/time-series"
   ],
   "metadata": {
    "gradient": {
     "editing": false
    }
   }
  },
  {
   "cell_type": "markdown",
   "source": [
    "While there is a dedicated Python package for connecting to the Quandl API, we would prefer that you use the *requests* package, which can be easily downloaded using *pip* or *conda*. You can find the documentation for the package here: http://docs.python-requests.org/en/master/ "
   ],
   "metadata": {
    "gradient": {
     "editing": false
    }
   }
  },
  {
   "cell_type": "markdown",
   "source": [
    "Finally, apart from the *requests* package, you are encouraged to not use any third party Python packages, such as *pandas*, and instead focus on what's available in the Python Standard Library (the *collections* module might come in handy: https://pymotw.com/3/collections/).\n",
    "Also, since you won't have access to DataFrames, you are encouraged to us Python's native data structures - preferably dictionaries, though some questions can also be answered using lists.\n",
    "You can read more on these data structures here: https://docs.python.org/3/tutorial/datastructures.html"
   ],
   "metadata": {
    "gradient": {
     "editing": false
    }
   }
  },
  {
   "cell_type": "markdown",
   "source": [
    "Keep in mind that the JSON responses you will be getting from the API map almost one-to-one to Python's dictionaries. Unfortunately, they can be very nested, so make sure you read up on indexing dictionaries in the documentation provided above."
   ],
   "metadata": {
    "gradient": {
     "editing": false
    }
   }
  },
  {
   "cell_type": "code",
   "execution_count": null,
   "source": [
    "# First, import the relevant modules\n",
    "import json\n",
    "import requests"
   ],
   "outputs": [],
   "metadata": {
    "collapsed": true,
    "gradient": {
     "editing": false
    }
   }
  },
  {
   "cell_type": "code",
   "execution_count": null,
   "source": [
    "# Now, call the Quandl API and pull out a small sample of the data (only one day) to get a glimpse\n",
    "# into the JSON structure that will be returned\n",
    "URL = 'https://www.quandl.com/api/v3/datasets/FSE/AFX_X.json?'\n",
    "pay_load={\n",
    "    'start_date':'2017-03-02',\n",
    "    'end_date':'2017-03-02',\n",
    "    'api_key':'siQRyjpiRycH87-FCq7v'\n",
    "}\n",
    "r = requests.get(URL, params=pay_load)\n",
    "resp = r.json()"
   ],
   "outputs": [],
   "metadata": {
    "collapsed": false,
    "gradient": {
     "editing": false,
     "source_hidden": false
    }
   }
  },
  {
   "cell_type": "code",
   "execution_count": null,
   "source": [
    "data = resp['dataset']\n",
    "print(data.keys())"
   ],
   "outputs": [
    {
     "output_type": "stream",
     "name": "stdout",
     "text": [
      "dict_keys(['id', 'dataset_code', 'database_code', 'name', 'description', 'refreshed_at', 'newest_available_date', 'oldest_available_date', 'column_names', 'frequency', 'type', 'premium', 'limit', 'transform', 'column_index', 'start_date', 'end_date', 'data', 'collapse', 'order', 'database_id'])\n"
     ]
    }
   ],
   "metadata": {
    "collapsed": false,
    "gradient": {
     "editing": false,
     "source_hidden": false
    }
   }
  },
  {
   "cell_type": "code",
   "execution_count": null,
   "source": [
    "resp['dataset']"
   ],
   "outputs": [
    {
     "output_type": "execute_result",
     "data": {
      "text/plain": [
       "{'id': 10095370,\n",
       " 'dataset_code': 'AFX_X',\n",
       " 'database_code': 'FSE',\n",
       " 'name': 'Carl Zeiss Meditec (AFX_X)',\n",
       " 'description': 'Stock Prices for Carl Zeiss Meditec (2020-11-02) from the Frankfurt Stock Exchange.<br><br>Trading System: Xetra<br><br>ISIN: DE0005313704',\n",
       " 'refreshed_at': '2020-12-01T14:48:09.907Z',\n",
       " 'newest_available_date': '2020-12-01',\n",
       " 'oldest_available_date': '2000-06-07',\n",
       " 'column_names': ['Date',\n",
       "  'Open',\n",
       "  'High',\n",
       "  'Low',\n",
       "  'Close',\n",
       "  'Change',\n",
       "  'Traded Volume',\n",
       "  'Turnover',\n",
       "  'Last Price of the Day',\n",
       "  'Daily Traded Units',\n",
       "  'Daily Turnover'],\n",
       " 'frequency': 'daily',\n",
       " 'type': 'Time Series',\n",
       " 'premium': False,\n",
       " 'limit': None,\n",
       " 'transform': None,\n",
       " 'column_index': None,\n",
       " 'start_date': '2017-03-02',\n",
       " 'end_date': '2017-03-02',\n",
       " 'data': [['2017-03-02',\n",
       "   41.38,\n",
       "   41.39,\n",
       "   40.76,\n",
       "   41.17,\n",
       "   None,\n",
       "   49863.0,\n",
       "   2048153.0,\n",
       "   None,\n",
       "   None,\n",
       "   None]],\n",
       " 'collapse': None,\n",
       " 'order': None,\n",
       " 'database_id': 6129}"
      ]
     },
     "metadata": {},
     "execution_count": 6
    }
   ],
   "metadata": {
    "collapsed": true,
    "gradient": {
     "editing": false
    }
   }
  },
  {
   "cell_type": "markdown",
   "source": [
    "These are your tasks for this mini project:\n",
    "\n",
    "1. Collect data from the Franfurt Stock Exchange, for the ticker AFX_X, for the whole year 2017 (keep in mind that the date format is YYYY-MM-DD).\n",
    "2. Convert the returned JSON object into a Python dictionary.\n",
    "3. Calculate what the highest and lowest opening prices were for the stock in this period.\n",
    "4. What was the largest change in any one day (based on High and Low price)?\n",
    "5. What was the largest change between any two days (based on Closing Price)?\n",
    "6. What was the average daily trading volume during this year?\n",
    "7. (Optional) What was the median trading volume during this year. (Note: you may need to implement your own function for calculating the median.)"
   ],
   "metadata": {
    "gradient": {
     "editing": false
    }
   }
  },
  {
   "cell_type": "markdown",
   "source": [
    "# Q1\n",
    "Collect data from the Franfurt Stock Exchange, for the ticker AFX_X, for the whole year 2017 (keep in mind that the date format is YYYY-MM-DD)."
   ],
   "metadata": {
    "gradient": {
     "editing": false
    }
   }
  },
  {
   "cell_type": "code",
   "execution_count": null,
   "source": [
    "def api_call(start_date, end_date):\n",
    "\n",
    "    pay_load = {\n",
    "        'start_date':start_date, \n",
    "        'end_date':end_date,\n",
    "        'api_key':API_KEY\n",
    "    }\n",
    "\n",
    "    r = requests.get(URL, params=pay_load)\n",
    "\n",
    "    resp = r.json()\n",
    "\n",
    "    return resp['dataset']\n",
    "\n",
    "dataset = api_call(start_date='2017-01-01', end_date='2017-12-31')"
   ],
   "outputs": [],
   "metadata": {
    "collapsed": false,
    "gradient": {
     "editing": false,
     "source_hidden": false
    }
   }
  },
  {
   "cell_type": "markdown",
   "source": [
    "# Q2\n",
    "Convert the returned JSON object into a Python dictionary."
   ],
   "metadata": {
    "gradient": {
     "editing": false
    }
   }
  },
  {
   "cell_type": "code",
   "execution_count": null,
   "source": [
    "def convert_json(d):\n",
    "\n",
    "    daily = d.get('data')\n",
    "    daily = daily[::-1]\n",
    "    daily = list(map(list, zip(*daily)))\n",
    "\n",
    "    columns = data.get('column_names')\n",
    "\n",
    "    dic = {columns[i]: daily[i] for i in range(len(columns))}\n",
    "\n",
    "    return dic\n",
    "\n",
    "stock_info = convert_json(d=dataset)"
   ],
   "outputs": [],
   "metadata": {
    "collapsed": false,
    "gradient": {
     "editing": false,
     "source_hidden": false
    }
   }
  },
  {
   "cell_type": "markdown",
   "source": [
    "# Q3\n",
    "Calculate what the highest and lowest opening prices were for the stock in this period."
   ],
   "metadata": {
    "gradient": {
     "editing": false
    }
   }
  },
  {
   "cell_type": "code",
   "execution_count": null,
   "source": [
    "def get_min_max(arr):\n",
    "\n",
    "    prices = [price for price in arr if price]\n",
    "\n",
    "    return max(prices), min(prices)\n",
    "\n",
    "maximum, minimum = get_min_max(arr=stock_info['Open'])\n",
    "print(\"Maximum Open:\", maximum)\n",
    "print(\"Minimum Open:\", minimum)"
   ],
   "outputs": [
    {
     "output_type": "stream",
     "name": "stdout",
     "text": [
      "Maximum Open: 53.11\n",
      "Minimum Open: 34.0\n"
     ]
    }
   ],
   "metadata": {
    "collapsed": false,
    "gradient": {
     "editing": false,
     "source_hidden": false
    }
   }
  },
  {
   "cell_type": "markdown",
   "source": [
    "# Q4\n",
    "What was the largest change in any one day (based on High and Low price)?"
   ],
   "metadata": {
    "gradient": {
     "editing": false
    }
   }
  },
  {
   "cell_type": "code",
   "execution_count": null,
   "source": [
    "def largest_change(high, low):\n",
    "\n",
    "    assert len(high) == len(low)\n",
    "    \n",
    "    change = 0\n",
    "    for i in range(len(high)):\n",
    "\n",
    "        if (high[i] and low[i]) and (high[i] - low[i] > change):\n",
    "\n",
    "            change = high[i] - low[i]\n",
    "\n",
    "    return change \n",
    "\n",
    "largest_gain = largest_change(high=stock_info['High'], low=stock_info['Low'])\n",
    "print(\"Largest 1-Day change\", largest_gain) "
   ],
   "outputs": [
    {
     "output_type": "stream",
     "name": "stdout",
     "text": [
      "Largest 1-Day change 2.8100000000000023\n"
     ]
    }
   ],
   "metadata": {
    "collapsed": false,
    "gradient": {
     "editing": false,
     "source_hidden": false
    }
   }
  },
  {
   "cell_type": "markdown",
   "source": [
    "# Q5\n",
    "What was the largest change between any two days (based on Closing Price)?"
   ],
   "metadata": {
    "gradient": {
     "editing": false
    }
   }
  },
  {
   "cell_type": "code",
   "execution_count": null,
   "source": [
    "def close_2d(close):\n",
    "\n",
    "    gain = 0\n",
    "    for i in range(len(close)-1):\n",
    "        \n",
    "        if (close[i] and close[i+1]) and (close[i+1] - close[i] > gain):\n",
    "            gain = close[i+1] - close[i]\n",
    "    \n",
    "    return gain\n",
    "\n",
    "largest = close_2d(close=stock_info['Close'])\n",
    "print(\"Largest change between any two days:\", largest)"
   ],
   "outputs": [
    {
     "output_type": "stream",
     "name": "stdout",
     "text": [
      "Largest change between any two days: 1.7199999999999989\n"
     ]
    }
   ],
   "metadata": {
    "collapsed": false,
    "gradient": {
     "editing": false,
     "source_hidden": false
    }
   }
  },
  {
   "cell_type": "markdown",
   "source": [
    "# Q6\n",
    "What was the average daily trading volume during this year?"
   ],
   "metadata": {
    "gradient": {
     "editing": false
    }
   }
  },
  {
   "cell_type": "code",
   "execution_count": null,
   "source": [
    "def average_annual_volume(volume):\n",
    "\n",
    "    volume = [vol for vol in volume if vol]\n",
    "    return sum(volume)/len(volume)\n",
    "\n",
    "avg_volume = average_annual_volume(volume=stock_info['Traded Volume'])\n",
    "print(\"Average daily trading volume:\", avg_volume)"
   ],
   "outputs": [
    {
     "output_type": "stream",
     "name": "stdout",
     "text": [
      "Average daily trading volume: 89124.33725490196\n"
     ]
    }
   ],
   "metadata": {
    "collapsed": false,
    "gradient": {
     "editing": false,
     "source_hidden": false
    }
   }
  },
  {
   "cell_type": "markdown",
   "source": [
    "# Q7\n",
    "What was the median trading volume during this year."
   ],
   "metadata": {
    "gradient": {
     "editing": false
    }
   }
  },
  {
   "cell_type": "code",
   "execution_count": null,
   "source": [
    "def median_volume(volume):\n",
    "\n",
    "    volume = [vol for vol in volume if vol]\n",
    "\n",
    "    volume.sort()\n",
    "\n",
    "    length = len(volume)\n",
    "\n",
    "    if length % 2 == 0:\n",
    "        ind = length/2\n",
    "        mid = (volume[ind-1] + volume[ind])/2\n",
    "    else:\n",
    "        mid = volume[int(length/2 + .5)]\n",
    "\n",
    "    return mid  \n",
    "\n",
    "median_volume(volume=stock_info['Traded Volume'])"
   ],
   "outputs": [
    {
     "output_type": "execute_result",
     "data": {
      "text/plain": [
       "76600.0"
      ]
     },
     "metadata": {},
     "execution_count": 13
    }
   ],
   "metadata": {
    "collapsed": false,
    "gradient": {
     "editing": false,
     "source_hidden": false
    }
   }
  }
 ],
 "metadata": {
  "kernelspec": {
   "display_name": "Python 3",
   "language": "python",
   "name": "python3"
  },
  "language_info": {
   "codemirror_mode": {
    "name": "ipython",
    "version": 3
   },
   "file_extension": ".py",
   "mimetype": "text/x-python",
   "name": "python",
   "nbconvert_exporter": "python",
   "pygments_lexer": "ipython3",
   "version": "3.6.4"
  }
 },
 "nbformat": 4,
 "nbformat_minor": 2
}